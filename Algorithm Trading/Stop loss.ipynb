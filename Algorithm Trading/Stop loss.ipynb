{
 "cells": [
  {
   "cell_type": "markdown",
   "metadata": {},
   "source": [
    "# اضافه کردن کتابخانه های مورد نیاز"
   ]
  },
  {
   "cell_type": "code",
   "execution_count": 95,
   "metadata": {},
   "outputs": [],
   "source": [
    "from pandas_datareader import data as web\n",
    "import pandas as pd \n",
    "import numpy as np\n",
    "import datetime\n",
    "import matplotlib.pyplot as plt\n",
    "from pandas_datareader import data\n",
    "import datetime as dt\n",
    "import pandas as pd\n",
    "import numpy as np\n",
    "import matplotlib.pyplot as plt \n",
    "%matplotlib inline\n",
    "from finta import TA\n",
    "from sklearn.model_selection import train_test_split\n",
    "from sklearn.tree import DecisionTreeRegressor\n",
    "from sklearn.linear_model import LinearRegression\n",
    "from sklearn.neighbors import KNeighborsRegressor\n",
    "from sklearn.naive_bayes import GaussianNB\n",
    "from sklearn.linear_model import LogisticRegression\n",
    "from sklearn.svm import SVC\n",
    "from sklearn.discriminant_analysis import LinearDiscriminantAnalysis"
   ]
  },
  {
   "cell_type": "markdown",
   "metadata": {},
   "source": [
    "# گرفتن اطلاعات قیمتی ارز دیجیتال اتریوم "
   ]
  },
  {
   "cell_type": "code",
   "execution_count": 96,
   "metadata": {},
   "outputs": [
    {
     "data": {
      "text/html": [
       "<div>\n",
       "<style scoped>\n",
       "    .dataframe tbody tr th:only-of-type {\n",
       "        vertical-align: middle;\n",
       "    }\n",
       "\n",
       "    .dataframe tbody tr th {\n",
       "        vertical-align: top;\n",
       "    }\n",
       "\n",
       "    .dataframe thead th {\n",
       "        text-align: right;\n",
       "    }\n",
       "</style>\n",
       "<table border=\"1\" class=\"dataframe\">\n",
       "  <thead>\n",
       "    <tr style=\"text-align: right;\">\n",
       "      <th></th>\n",
       "      <th>High</th>\n",
       "      <th>Low</th>\n",
       "      <th>Open</th>\n",
       "      <th>Close</th>\n",
       "      <th>Volume</th>\n",
       "      <th>Adj Close</th>\n",
       "    </tr>\n",
       "    <tr>\n",
       "      <th>Date</th>\n",
       "      <th></th>\n",
       "      <th></th>\n",
       "      <th></th>\n",
       "      <th></th>\n",
       "      <th></th>\n",
       "      <th></th>\n",
       "    </tr>\n",
       "  </thead>\n",
       "  <tbody>\n",
       "    <tr>\n",
       "      <th>2018-06-20</th>\n",
       "      <td>0.868500</td>\n",
       "      <td>0.859970</td>\n",
       "      <td>0.86378</td>\n",
       "      <td>0.86363</td>\n",
       "      <td>0.0</td>\n",
       "      <td>0.86363</td>\n",
       "    </tr>\n",
       "    <tr>\n",
       "      <th>2018-06-21</th>\n",
       "      <td>0.861940</td>\n",
       "      <td>0.856458</td>\n",
       "      <td>0.86155</td>\n",
       "      <td>0.86164</td>\n",
       "      <td>0.0</td>\n",
       "      <td>0.86164</td>\n",
       "    </tr>\n",
       "    <tr>\n",
       "      <th>2018-06-24</th>\n",
       "      <td>0.859850</td>\n",
       "      <td>0.854700</td>\n",
       "      <td>0.85759</td>\n",
       "      <td>0.85753</td>\n",
       "      <td>0.0</td>\n",
       "      <td>0.85753</td>\n",
       "    </tr>\n",
       "    <tr>\n",
       "      <th>2018-06-25</th>\n",
       "      <td>0.858220</td>\n",
       "      <td>0.853200</td>\n",
       "      <td>0.85457</td>\n",
       "      <td>0.85450</td>\n",
       "      <td>0.0</td>\n",
       "      <td>0.85450</td>\n",
       "    </tr>\n",
       "    <tr>\n",
       "      <th>2018-06-26</th>\n",
       "      <td>0.863290</td>\n",
       "      <td>0.856760</td>\n",
       "      <td>0.85851</td>\n",
       "      <td>0.85835</td>\n",
       "      <td>0.0</td>\n",
       "      <td>0.85835</td>\n",
       "    </tr>\n",
       "    <tr>\n",
       "      <th>...</th>\n",
       "      <td>...</td>\n",
       "      <td>...</td>\n",
       "      <td>...</td>\n",
       "      <td>...</td>\n",
       "      <td>...</td>\n",
       "      <td>...</td>\n",
       "    </tr>\n",
       "    <tr>\n",
       "      <th>2021-04-14</th>\n",
       "      <td>0.836270</td>\n",
       "      <td>0.833810</td>\n",
       "      <td>0.83456</td>\n",
       "      <td>0.83430</td>\n",
       "      <td>0.0</td>\n",
       "      <td>0.83430</td>\n",
       "    </tr>\n",
       "    <tr>\n",
       "      <th>2021-04-15</th>\n",
       "      <td>0.836757</td>\n",
       "      <td>0.833700</td>\n",
       "      <td>0.83537</td>\n",
       "      <td>0.83530</td>\n",
       "      <td>0.0</td>\n",
       "      <td>0.83530</td>\n",
       "    </tr>\n",
       "    <tr>\n",
       "      <th>2021-04-18</th>\n",
       "      <td>0.837280</td>\n",
       "      <td>0.830000</td>\n",
       "      <td>0.83554</td>\n",
       "      <td>0.83546</td>\n",
       "      <td>0.0</td>\n",
       "      <td>0.83546</td>\n",
       "    </tr>\n",
       "    <tr>\n",
       "      <th>2021-04-19</th>\n",
       "      <td>0.831340</td>\n",
       "      <td>0.827700</td>\n",
       "      <td>0.83030</td>\n",
       "      <td>0.83020</td>\n",
       "      <td>0.0</td>\n",
       "      <td>0.83020</td>\n",
       "    </tr>\n",
       "    <tr>\n",
       "      <th>2021-04-20</th>\n",
       "      <td>0.833333</td>\n",
       "      <td>0.830200</td>\n",
       "      <td>0.83108</td>\n",
       "      <td>0.83109</td>\n",
       "      <td>0.0</td>\n",
       "      <td>0.83109</td>\n",
       "    </tr>\n",
       "  </tbody>\n",
       "</table>\n",
       "<p>719 rows × 6 columns</p>\n",
       "</div>"
      ],
      "text/plain": [
       "                High       Low     Open    Close  Volume  Adj Close\n",
       "Date                                                               \n",
       "2018-06-20  0.868500  0.859970  0.86378  0.86363     0.0    0.86363\n",
       "2018-06-21  0.861940  0.856458  0.86155  0.86164     0.0    0.86164\n",
       "2018-06-24  0.859850  0.854700  0.85759  0.85753     0.0    0.85753\n",
       "2018-06-25  0.858220  0.853200  0.85457  0.85450     0.0    0.85450\n",
       "2018-06-26  0.863290  0.856760  0.85851  0.85835     0.0    0.85835\n",
       "...              ...       ...      ...      ...     ...        ...\n",
       "2021-04-14  0.836270  0.833810  0.83456  0.83430     0.0    0.83430\n",
       "2021-04-15  0.836757  0.833700  0.83537  0.83530     0.0    0.83530\n",
       "2021-04-18  0.837280  0.830000  0.83554  0.83546     0.0    0.83546\n",
       "2021-04-19  0.831340  0.827700  0.83030  0.83020     0.0    0.83020\n",
       "2021-04-20  0.833333  0.830200  0.83108  0.83109     0.0    0.83109\n",
       "\n",
       "[719 rows x 6 columns]"
      ]
     },
     "execution_count": 96,
     "metadata": {},
     "output_type": "execute_result"
    }
   ],
   "source": [
    "data= pd.DataFrame(web.get_data_yahoo('USDEUR=X',start=\"20180621\",end=\"20210420\" ))\n",
    "data"
   ]
  },
  {
   "cell_type": "code",
   "execution_count": 97,
   "metadata": {},
   "outputs": [],
   "source": [
    "crypto_data=pd.DataFrame()\n",
    "crypto_data[\"Open\"]=data.Open[:]\n",
    "crypto_data[\"High\"]=data.High[:]\n",
    "crypto_data[\"Low\"]=data.Low[:]\n",
    "crypto_data[\"Close\"]=data.Close[:]"
   ]
  },
  {
   "cell_type": "markdown",
   "metadata": {},
   "source": [
    "# تقسیم داده ها به تست و آموزش 20 درصدی"
   ]
  },
  {
   "cell_type": "code",
   "execution_count": 98,
   "metadata": {},
   "outputs": [],
   "source": [
    "sma9=TA.SMA(crypto_data, 9) # period : 9\n",
    "sma9=sma9.reset_index(drop=True)\n",
    "ind=pd.DataFrame(sma9)\n",
    "ind.columns=['sma9']"
   ]
  },
  {
   "cell_type": "code",
   "execution_count": 99,
   "metadata": {},
   "outputs": [],
   "source": [
    "ema9=TA.EMA(crypto_data,9) #period = 9\n",
    "ema9=ema9.reset_index(drop=True)\n",
    "ind['ema9']=ema9"
   ]
  },
  {
   "cell_type": "code",
   "execution_count": 100,
   "metadata": {},
   "outputs": [],
   "source": [
    "y=crypto_data[\"Close\"][8:]\n",
    "y=y.reset_index(drop=True)\n",
    "y=np.array(y)\n",
    "x=ind.dropna()\n",
    "x=np.array(x)\n",
    "X_train,X_test,y_train,y_test=train_test_split(x,y,test_size=0.2)"
   ]
  },
  {
   "cell_type": "markdown",
   "metadata": {},
   "source": [
    "# استفاده از روش درخت تصمیم"
   ]
  },
  {
   "cell_type": "code",
   "execution_count": 101,
   "metadata": {},
   "outputs": [
    {
     "data": {
      "text/plain": [
       "KNeighborsRegressor(n_neighbors=3)"
      ]
     },
     "execution_count": 101,
     "metadata": {},
     "output_type": "execute_result"
    }
   ],
   "source": [
    "knn_model = KNeighborsRegressor(n_neighbors=3)\n",
    "knn_model.fit(X_train, y_train)"
   ]
  },
  {
   "cell_type": "code",
   "execution_count": 103,
   "metadata": {},
   "outputs": [],
   "source": [
    "test_preds = knn_model.predict(X_test)"
   ]
  },
  {
   "cell_type": "code",
   "execution_count": 73,
   "metadata": {},
   "outputs": [],
   "source": [
    "clf = DecisionTreeRegressor()"
   ]
  },
  {
   "cell_type": "code",
   "execution_count": 74,
   "metadata": {},
   "outputs": [
    {
     "data": {
      "text/plain": [
       "DecisionTreeRegressor()"
      ]
     },
     "execution_count": 74,
     "metadata": {},
     "output_type": "execute_result"
    }
   ],
   "source": [
    "clf.fit(X_train, y_train)"
   ]
  },
  {
   "cell_type": "code",
   "execution_count": 104,
   "metadata": {},
   "outputs": [],
   "source": [
    "clfP = clf.predict(X_test)"
   ]
  },
  {
   "cell_type": "code",
   "execution_count": 76,
   "metadata": {},
   "outputs": [
    {
     "data": {
      "text/plain": [
       "LinearRegression()"
      ]
     },
     "execution_count": 76,
     "metadata": {},
     "output_type": "execute_result"
    }
   ],
   "source": [
    "lr = LinearRegression()\n",
    "lr.fit(X_train, y_train)"
   ]
  },
  {
   "cell_type": "code",
   "execution_count": 105,
   "metadata": {},
   "outputs": [],
   "source": [
    "lrP = lr.predict(X_test)"
   ]
  },
  {
   "cell_type": "code",
   "execution_count": 78,
   "metadata": {},
   "outputs": [],
   "source": [
    "crypto_data['returns'] = np.log(crypto_data['Close']/crypto_data['Close'].shift(1))"
   ]
  },
  {
   "cell_type": "code",
   "execution_count": 79,
   "metadata": {},
   "outputs": [],
   "source": [
    "weights = np.ones((520,))\n",
    "# Normalize\n",
    "weights = weights / np.sum(weights)"
   ]
  },
  {
   "cell_type": "code",
   "execution_count": 80,
   "metadata": {},
   "outputs": [],
   "source": [
    "def value_at_risk(value_invested, returns, weights, alpha=0.95, lookback_days=520):\n",
    "    returns = returns.fillna(0.0)\n",
    "    # Multiply asset returns by weights to get one weighted portfolio return\n",
    "    portfolio_returns = returns.iloc[-lookback_days:].dot(weights)\n",
    "    # Compute the correct percentile loss and multiply by value invested\n",
    "    return np.percentile(portfolio_returns, 100 * (1-alpha)) * value_invested"
   ]
  },
  {
   "cell_type": "code",
   "execution_count": 81,
   "metadata": {},
   "outputs": [
    {
     "data": {
      "text/plain": [
       "-118.08113128540901"
      ]
     },
     "execution_count": 81,
     "metadata": {},
     "output_type": "execute_result"
    }
   ],
   "source": [
    "value_invested = 1000000\n",
    "\n",
    "value_at_risk(value_invested, crypto_data['returns'], weights, alpha=0.95)"
   ]
  },
  {
   "cell_type": "code",
   "execution_count": 82,
   "metadata": {},
   "outputs": [],
   "source": [
    "def cvar(value_invested, returns, weights, alpha=0.95, lookback_days=520):\n",
    "    # Call out to our existing function\n",
    "    var = value_at_risk(value_invested, returns, weights, alpha, lookback_days=lookback_days)\n",
    "    returns = returns.fillna(0.0)\n",
    "    portfolio_returns = returns.iloc[-lookback_days:].dot(weights)\n",
    "    \n",
    "    # Get back to a return rather than an absolute loss\n",
    "    var_pct_loss = var / value_invested\n",
    "    \n",
    "    return value_invested * np.nanmean(portfolio_returns[portfolio_returns < var_pct_loss])"
   ]
  },
  {
   "cell_type": "code",
   "execution_count": 83,
   "metadata": {},
   "outputs": [],
   "source": [
    "weights = np.ones((520,1))\n",
    "# Normalize\n",
    "weights = weights / np.sum(weights)"
   ]
  },
  {
   "cell_type": "code",
   "execution_count": 84,
   "metadata": {},
   "outputs": [
    {
     "name": "stderr",
     "output_type": "stream",
     "text": [
      "<ipython-input-82-39f7c641cbdf>:10: RuntimeWarning: Mean of empty slice\n",
      "  return value_invested * np.nanmean(portfolio_returns[portfolio_returns < var_pct_loss])\n"
     ]
    },
    {
     "data": {
      "text/plain": [
       "nan"
      ]
     },
     "execution_count": 84,
     "metadata": {},
     "output_type": "execute_result"
    }
   ],
   "source": [
    "cvar(value_invested, crypto_data['returns'],weights)"
   ]
  },
  {
   "cell_type": "markdown",
   "metadata": {},
   "source": [
    "## حد ضرر ثابت"
   ]
  },
  {
   "cell_type": "code",
   "execution_count": 106,
   "metadata": {},
   "outputs": [
    {
     "name": "stdout",
     "output_type": "stream",
     "text": [
      "62.14863521812405\n"
     ]
    }
   ],
   "source": [
    "vol=100\n",
    "w=crypto_data[\"Close\"]\n",
    "z=ind.dropna().reset_index(drop=True)\n",
    "z=z.reset_index(drop=True)\n",
    "r,c=z.shape\n",
    "f=0\n",
    "sl=0\n",
    "for i in range(1,r):\n",
    "    if (f==-1):\n",
    "        if(w[i]>sl):\n",
    "            q=s/w[i]\n",
    "            vol=vol*q\n",
    "            f=0\n",
    "    elif(f==1):\n",
    "        if(w[i]<sl):\n",
    "            q=w[i]/s\n",
    "            vol=vol*q\n",
    "            f=0\n",
    "    if float(z['sma9'][i-1])<float(z['ema9'][i-1]):\n",
    "        if float(z['sma9'][i])>float(z['ema9'][i]):\n",
    "            if f==0:\n",
    "                s=w[i]\n",
    "                sl=w[i]*1.005\n",
    "                f=-1\n",
    "            elif f==1:\n",
    "                q=w[i]/s\n",
    "                vol=vol*q\n",
    "                s=w[i]\n",
    "                sl=w[i]*1.005\n",
    "                f=-1\n",
    "            else:\n",
    "                continue\n",
    "    if float(z['sma9'][i-1])>float(z['ema9'][i-1]):\n",
    "        if float(z['sma9'][i])<float(z['ema9'][i]):\n",
    "            if f==0:\n",
    "                s=w[i]\n",
    "                sl=w[i]*0.995\n",
    "                f=1\n",
    "            elif f==-1:\n",
    "                q=s/w[i]\n",
    "                vol=vol*q\n",
    "                s=w[i]\n",
    "                sl=w[i]*0.995\n",
    "                f=1\n",
    "            else:\n",
    "                continue\n",
    "print(vol)\n"
   ]
  },
  {
   "cell_type": "markdown",
   "metadata": {},
   "source": [
    "## حد ضرر متحرک"
   ]
  },
  {
   "cell_type": "code",
   "execution_count": 107,
   "metadata": {},
   "outputs": [
    {
     "name": "stdout",
     "output_type": "stream",
     "text": [
      "73.76699739529914\n"
     ]
    }
   ],
   "source": [
    "vol=100\n",
    "w=crypto_data[\"Close\"]\n",
    "z=ind.dropna().reset_index(drop=True)\n",
    "z=z.reset_index(drop=True)\n",
    "r,c=z.shape\n",
    "f=0\n",
    "sl=0\n",
    "for i in range(2,r):\n",
    "    if (f==-1):\n",
    "        if(w[i]>sl):\n",
    "            q=s/w[i]\n",
    "            vol=vol*q\n",
    "            f=0\n",
    "        elif(w[i]<w[i-1]):\n",
    "            sl=w[i]*1.05\n",
    "    elif(f==1):\n",
    "        if(w[i]<sl):\n",
    "            q=w[i]/s\n",
    "            vol=vol*q\n",
    "            f=0\n",
    "        elif(w[i]>w[i-1]):\n",
    "            sl=w[i]*0.95\n",
    "    if float(z['sma9'][i-1])<float(z['ema9'][i-1]):\n",
    "        if float(z['sma9'][i])>float(z['ema9'][i]):\n",
    "            if f==0:\n",
    "                s=w[i]\n",
    "                sl=w[i]*1.05\n",
    "                f=-1\n",
    "            elif f==1:\n",
    "                q=w[i]/s\n",
    "                vol=vol*q\n",
    "                s=w[i]\n",
    "                sl=w[i]*1.05\n",
    "                f=-1\n",
    "            else:\n",
    "                continue\n",
    "    if float(z['sma9'][i-1])>float(z['ema9'][i-1]):\n",
    "        if float(z['sma9'][i])<float(z['ema9'][i]):\n",
    "            if f==0:\n",
    "                s=w[i]\n",
    "                sl=w[i]*0.95\n",
    "                f=1\n",
    "            elif f==-1:\n",
    "                q=s/w[i]\n",
    "                vol=vol*q\n",
    "                s=w[i]\n",
    "                sl=w[i]*0.95\n",
    "                f=1\n",
    "            else:\n",
    "                continue\n",
    "print(vol)\n"
   ]
  },
  {
   "cell_type": "markdown",
   "metadata": {},
   "source": [
    "مشاهده میشود در حالت حد ضرر متحرک سود بیشتری بدست آمده است"
   ]
  },
  {
   "cell_type": "markdown",
   "metadata": {},
   "source": [
    " "
   ]
  }
 ],
 "metadata": {
  "kernelspec": {
   "display_name": "Python 3",
   "language": "python",
   "name": "python3"
  },
  "language_info": {
   "codemirror_mode": {
    "name": "ipython",
    "version": 3
   },
   "file_extension": ".py",
   "mimetype": "text/x-python",
   "name": "python",
   "nbconvert_exporter": "python",
   "pygments_lexer": "ipython3",
   "version": "3.8.5"
  }
 },
 "nbformat": 4,
 "nbformat_minor": 4
}
