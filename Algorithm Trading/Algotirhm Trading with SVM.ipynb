{
 "cells": [
  {
   "cell_type": "markdown",
   "metadata": {},
   "source": [
    "# Import libaries"
   ]
  },
  {
   "cell_type": "code",
   "execution_count": 6,
   "metadata": {},
   "outputs": [],
   "source": [
    "from pandas_datareader import data as web\n",
    "import pandas as pd \n",
    "import numpy as np\n",
    "import datetime\n",
    "import matplotlib.pyplot as plt\n",
    "from sklearn.metrics import confusion_matrix\n",
    "from sklearn.svm import LinearSVC, SVC\n"
   ]
  },
  {
   "cell_type": "markdown",
   "metadata": {},
   "source": [
    "# Get data"
   ]
  },
  {
   "cell_type": "code",
   "execution_count": 2,
   "metadata": {},
   "outputs": [],
   "source": [
    "data= pd.DataFrame(web.get_data_yahoo('BTC-USD',start=\"2017-04-15\",end=\"2021-4-22\"))\n",
    "crypto_data=pd.DataFrame()\n",
    "crypto_data[\"Close\"]=data.Close[:]\n",
    "crypto_data[\"Volume\"]=data.Volume[:]"
   ]
  },
  {
   "cell_type": "markdown",
   "metadata": {},
   "source": [
    "# Define function"
   ]
  },
  {
   "cell_type": "code",
   "execution_count": 3,
   "metadata": {},
   "outputs": [],
   "source": [
    "def model_variables(prices,lags):\n",
    "  \n",
    "    \n",
    "    prices = prices.apply(pd.to_numeric)\n",
    "    \n",
    "    inputs = pd.DataFrame(index=prices.index)\n",
    "    \n",
    "    inputs[\"Close\"] = prices[\"Close\"]\n",
    "    inputs[\"Volume\"] = prices[\"Volume\"]\n",
    "    \n",
    "    for i in range(0, lags):\n",
    "        tsret = pd.DataFrame(index=inputs.index)\n",
    "        inputs[\"Lag%s\" % str(i+1)] = prices[\"Close\"].shift(i+1)\n",
    "   \n",
    "   \n",
    "    tsret[\"VolumeChange\"] =inputs[\"Volume\"].pct_change()\n",
    "    tsret[\"returns\"] = inputs[\"Close\"].pct_change()*100.0\n",
    "        \n",
    "    \n",
    "    for i,x in enumerate(tsret[\"returns\"]):\n",
    "        if (abs(x) < 0.0001):\n",
    "            tsret[\"returns\"][i] = 0.0001\n",
    "    \n",
    "   \n",
    "    for i in range(0, lags):\n",
    "        tsret[\"Lag%s\" % str(i+1)] = \\\n",
    "          inputs[\"Lag%s\" % str(i+1)].pct_change()*100.0\n",
    "    \n",
    "\n",
    "    tsret = tsret.dropna()\n",
    "    tsret[\"Direction\"] = np.sign(tsret[\"returns\"])\n",
    "    \n",
    "  \n",
    "    tsret.index = pd.to_datetime(tsret.index)\n",
    "    return tsret"
   ]
  },
  {
   "cell_type": "markdown",
   "metadata": {},
   "source": [
    "# Test&Train Data"
   ]
  },
  {
   "cell_type": "code",
   "execution_count": 4,
   "metadata": {},
   "outputs": [
    {
     "name": "stdout",
     "output_type": "stream",
     "text": [
      "Hit Rates/Confusion Matrices:\n",
      "\n",
      "SVM 0.5569620253164557\n",
      "[[ 33  31]\n",
      " [179 231]]\n"
     ]
    }
   ],
   "source": [
    "\n",
    "variables_data = model_variables(crypto_data,2)\n",
    " \n",
    "\n",
    "dataset = variables_data[[\"Lag1\",\"Lag2\",\"VolumeChange\",\"Direction\"]]\n",
    "dataset = dataset.dropna()\n",
    " \n",
    "\n",
    "X = dataset[[\"Lag1\",\"Lag2\",\"VolumeChange\"]]\n",
    "y = dataset[\"Direction\"]\n",
    "\n",
    "\n",
    " \n",
    "date_split = datetime.datetime(2020,1,1)\n",
    " \n",
    "X_train = X[X.index <= date_split]\n",
    "X_test =  X[X.index > date_split]\n",
    "y_train = y[y.index <= date_split]\n",
    "y_test = y[y.index > date_split]\n",
    " \n",
    "# Create the (parametrised) models\n",
    "print(\"Hit Rates/Confusion Matrices:\\n\")\n",
    "models = [\n",
    "              \n",
    "              \n",
    "              (\"SVM\", SVC(\n",
    "                      C=1000000.0, gamma=0.0001, kernel='rbf',\n",
    "                    )\n",
    "  \n",
    "    \n",
    "  )]\n",
    "for m in models:\n",
    " \n",
    "    m[1].fit(X_train, y_train)\n",
    "\n",
    "    ypt =pd.DataFrame( m[1].predict(X_test))\n",
    " \n",
    " \n",
    "    print(m[0], m[1].score(X_test, y_test))\n",
    "    print( confusion_matrix(ypt, y_test))\n",
    "    "
   ]
  },
  {
   "cell_type": "markdown",
   "metadata": {},
   "source": [
    "# Trading with Svm prediction"
   ]
  },
  {
   "cell_type": "code",
   "execution_count": 5,
   "metadata": {},
   "outputs": [
    {
     "name": "stdout",
     "output_type": "stream",
     "text": [
      "SVM model =  324.6962651559891\n",
      "Return of SVM model =  549.3925303119782\n"
     ]
    },
    {
     "data": {
      "image/png": "[encoded data removed]",
      "text/plain": [
       "<Figure size 432x288 with 1 Axes>"
      ]
     },
     "metadata": {
      "needs_background": "light"
     },
     "output_type": "display_data"
    }
   ],
   "source": [
    "sm=50\n",
    "\n",
    "\n",
    "modelval = []\n",
    "f = -1\n",
    "\n",
    "#base model\n",
    "for i in range(0,len(ypt)):    \n",
    "            \n",
    "        if (ypt[0][i] == 1 and f == -1):\n",
    "            ns = (sm)/crypto_data.Close[i]\n",
    "            modelval.append(ns*crypto_data.Close[i])                        \n",
    "        if (ypt[0][i] == 1 and f == 1):\n",
    "            modelval.append(ns*crypto_data.Close[i])                        \n",
    "        if (ypt[0][i] == 1 and f == -1):\n",
    "            f = 1                        \n",
    "        if (ypt[0][i] == -1 and f == -1):\n",
    "            modelval.append(sm)\n",
    "            sm=sm           \n",
    "        if (ypt[0][i] == -1 and f == 1): \n",
    "            sm = ns*crypto_data.Close[i]\n",
    "            f = -1\n",
    "            modelval.append(sm)\n",
    "\n",
    "returnmodel = (((modelval[472])-50)/50)*100\n",
    "print('SVM model = ',modelval[472])\n",
    "print('Return of SVM model = ',returnmodel)\n",
    "\n",
    "\n",
    "\n",
    "\n",
    "plt.figure()\n",
    "plt.title('value Over Time  for BTC')\n",
    "plt.xlabel('Time')\n",
    "plt.ylabel('Value')\n",
    "plt.plot(modelval)\n",
    "\n",
    "plt.legend(['SVM model'])\n",
    "plt.show()"
   ]
  },
  {
   "cell_type": "code",
   "execution_count": null,
   "metadata": {},
   "outputs": [],
   "source": []
  },
  {
   "cell_type": "code",
   "execution_count": null,
   "metadata": {},
   "outputs": [],
   "source": []
  }
 ],
 "metadata": {
  "kernelspec": {
   "display_name": "Python 3",
   "language": "python",
   "name": "python3"
  },
  "language_info": {
   "codemirror_mode": {
    "name": "ipython",
    "version": 3
   },
   "file_extension": ".py",
   "mimetype": "text/x-python",
   "name": "python",
   "nbconvert_exporter": "python",
   "pygments_lexer": "ipython3",
   "version": "3.8.5"
  }
 },
 "nbformat": 4,
 "nbformat_minor": 4
}
