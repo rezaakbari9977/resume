{
 "cells": [
  {
   "cell_type": "markdown",
   "metadata": {},
   "source": [
    "# اضافه کردن کتابخانه های مورد نیاز"
   ]
  },
  {
   "cell_type": "code",
   "execution_count": 1,
   "metadata": {},
   "outputs": [],
   "source": [
    "from pandas_datareader import data as web\n",
    "import pandas as pd \n",
    "import numpy as np\n",
    "import datetime\n",
    "import matplotlib.pyplot as plt\n",
    "from pandas_datareader import data\n",
    "import datetime as dt\n",
    "import pandas as pd\n",
    "import numpy as np\n",
    "import matplotlib.pyplot as plt \n",
    "%matplotlib inline\n",
    "from finta import TA\n",
    "from sklearn.model_selection import train_test_split\n",
    "from sklearn.tree import DecisionTreeRegressor\n",
    "from sklearn.linear_model import LinearRegression"
   ]
  },
  {
   "cell_type": "markdown",
   "metadata": {},
   "source": [
    "# گرفتن اطلاعات قیمتی ارز دیجیتال اتریوم "
   ]
  },
  {
   "cell_type": "code",
   "execution_count": 2,
   "metadata": {},
   "outputs": [
    {
     "data": {
      "text/html": [
       "<div>\n",
       "<style scoped>\n",
       "    .dataframe tbody tr th:only-of-type {\n",
       "        vertical-align: middle;\n",
       "    }\n",
       "\n",
       "    .dataframe tbody tr th {\n",
       "        vertical-align: top;\n",
       "    }\n",
       "\n",
       "    .dataframe thead th {\n",
       "        text-align: right;\n",
       "    }\n",
       "</style>\n",
       "<table border=\"1\" class=\"dataframe\">\n",
       "  <thead>\n",
       "    <tr style=\"text-align: right;\">\n",
       "      <th></th>\n",
       "      <th>High</th>\n",
       "      <th>Low</th>\n",
       "      <th>Open</th>\n",
       "      <th>Close</th>\n",
       "      <th>Volume</th>\n",
       "      <th>Adj Close</th>\n",
       "    </tr>\n",
       "    <tr>\n",
       "      <th>Date</th>\n",
       "      <th></th>\n",
       "      <th></th>\n",
       "      <th></th>\n",
       "      <th></th>\n",
       "      <th></th>\n",
       "      <th></th>\n",
       "    </tr>\n",
       "  </thead>\n",
       "  <tbody>\n",
       "    <tr>\n",
       "      <th>2021-05-19</th>\n",
       "      <td>42462.984375</td>\n",
       "      <td>35050.617188</td>\n",
       "      <td>36753.667969</td>\n",
       "      <td>40782.738281</td>\n",
       "      <td>88281943359</td>\n",
       "      <td>40782.738281</td>\n",
       "    </tr>\n",
       "    <tr>\n",
       "      <th>2021-05-20</th>\n",
       "      <td>42172.171875</td>\n",
       "      <td>33616.453125</td>\n",
       "      <td>40596.949219</td>\n",
       "      <td>37304.691406</td>\n",
       "      <td>82051616861</td>\n",
       "      <td>37304.691406</td>\n",
       "    </tr>\n",
       "    <tr>\n",
       "      <th>2021-05-21</th>\n",
       "      <td>38831.054688</td>\n",
       "      <td>35383.683594</td>\n",
       "      <td>37371.031250</td>\n",
       "      <td>37536.632812</td>\n",
       "      <td>57377273240</td>\n",
       "      <td>37536.632812</td>\n",
       "    </tr>\n",
       "    <tr>\n",
       "      <th>2021-05-22</th>\n",
       "      <td>38289.218750</td>\n",
       "      <td>31227.339844</td>\n",
       "      <td>37531.449219</td>\n",
       "      <td>34770.582031</td>\n",
       "      <td>78469274361</td>\n",
       "      <td>34770.582031</td>\n",
       "    </tr>\n",
       "    <tr>\n",
       "      <th>2021-05-23</th>\n",
       "      <td>39835.140625</td>\n",
       "      <td>34551.082031</td>\n",
       "      <td>34700.363281</td>\n",
       "      <td>38705.980469</td>\n",
       "      <td>67359584098</td>\n",
       "      <td>38705.980469</td>\n",
       "    </tr>\n",
       "    <tr>\n",
       "      <th>2021-05-24</th>\n",
       "      <td>39776.351562</td>\n",
       "      <td>36581.429688</td>\n",
       "      <td>38795.781250</td>\n",
       "      <td>38402.222656</td>\n",
       "      <td>56211915803</td>\n",
       "      <td>38402.222656</td>\n",
       "    </tr>\n",
       "    <tr>\n",
       "      <th>2021-05-25</th>\n",
       "      <td>40782.078125</td>\n",
       "      <td>37905.835938</td>\n",
       "      <td>38392.625000</td>\n",
       "      <td>39294.199219</td>\n",
       "      <td>51346735160</td>\n",
       "      <td>39294.199219</td>\n",
       "    </tr>\n",
       "    <tr>\n",
       "      <th>2021-05-26</th>\n",
       "      <td>40379.617188</td>\n",
       "      <td>37247.902344</td>\n",
       "      <td>39316.890625</td>\n",
       "      <td>38436.968750</td>\n",
       "      <td>43210968721</td>\n",
       "      <td>38436.968750</td>\n",
       "    </tr>\n",
       "    <tr>\n",
       "      <th>2021-05-27</th>\n",
       "      <td>38856.968750</td>\n",
       "      <td>34779.039062</td>\n",
       "      <td>38507.082031</td>\n",
       "      <td>35697.605469</td>\n",
       "      <td>55200191952</td>\n",
       "      <td>35697.605469</td>\n",
       "    </tr>\n",
       "    <tr>\n",
       "      <th>2021-05-28</th>\n",
       "      <td>37234.500000</td>\n",
       "      <td>33693.929688</td>\n",
       "      <td>35684.156250</td>\n",
       "      <td>34616.066406</td>\n",
       "      <td>45231013335</td>\n",
       "      <td>34616.066406</td>\n",
       "    </tr>\n",
       "    <tr>\n",
       "      <th>2021-05-29</th>\n",
       "      <td>36400.667969</td>\n",
       "      <td>33520.738281</td>\n",
       "      <td>34607.406250</td>\n",
       "      <td>35678.128906</td>\n",
       "      <td>31646080921</td>\n",
       "      <td>35678.128906</td>\n",
       "    </tr>\n",
       "    <tr>\n",
       "      <th>2021-05-30</th>\n",
       "      <td>37468.250000</td>\n",
       "      <td>34241.945312</td>\n",
       "      <td>35658.593750</td>\n",
       "      <td>37332.855469</td>\n",
       "      <td>39009847639</td>\n",
       "      <td>37332.855469</td>\n",
       "    </tr>\n",
       "    <tr>\n",
       "      <th>2021-05-31</th>\n",
       "      <td>37896.734375</td>\n",
       "      <td>35787.085938</td>\n",
       "      <td>37293.792969</td>\n",
       "      <td>36684.925781</td>\n",
       "      <td>34639423297</td>\n",
       "      <td>36684.925781</td>\n",
       "    </tr>\n",
       "    <tr>\n",
       "      <th>2021-06-01</th>\n",
       "      <td>38231.339844</td>\n",
       "      <td>35966.308594</td>\n",
       "      <td>36699.921875</td>\n",
       "      <td>37575.179688</td>\n",
       "      <td>33070867190</td>\n",
       "      <td>37575.179688</td>\n",
       "    </tr>\n",
       "    <tr>\n",
       "      <th>2021-06-03</th>\n",
       "      <td>38857.125000</td>\n",
       "      <td>37300.804688</td>\n",
       "      <td>37700.500000</td>\n",
       "      <td>38741.195312</td>\n",
       "      <td>35725754368</td>\n",
       "      <td>38741.195312</td>\n",
       "    </tr>\n",
       "  </tbody>\n",
       "</table>\n",
       "</div>"
      ],
      "text/plain": [
       "                    High           Low          Open         Close  \\\n",
       "Date                                                                 \n",
       "2021-05-19  42462.984375  35050.617188  36753.667969  40782.738281   \n",
       "2021-05-20  42172.171875  33616.453125  40596.949219  37304.691406   \n",
       "2021-05-21  38831.054688  35383.683594  37371.031250  37536.632812   \n",
       "2021-05-22  38289.218750  31227.339844  37531.449219  34770.582031   \n",
       "2021-05-23  39835.140625  34551.082031  34700.363281  38705.980469   \n",
       "2021-05-24  39776.351562  36581.429688  38795.781250  38402.222656   \n",
       "2021-05-25  40782.078125  37905.835938  38392.625000  39294.199219   \n",
       "2021-05-26  40379.617188  37247.902344  39316.890625  38436.968750   \n",
       "2021-05-27  38856.968750  34779.039062  38507.082031  35697.605469   \n",
       "2021-05-28  37234.500000  33693.929688  35684.156250  34616.066406   \n",
       "2021-05-29  36400.667969  33520.738281  34607.406250  35678.128906   \n",
       "2021-05-30  37468.250000  34241.945312  35658.593750  37332.855469   \n",
       "2021-05-31  37896.734375  35787.085938  37293.792969  36684.925781   \n",
       "2021-06-01  38231.339844  35966.308594  36699.921875  37575.179688   \n",
       "2021-06-03  38857.125000  37300.804688  37700.500000  38741.195312   \n",
       "\n",
       "                 Volume     Adj Close  \n",
       "Date                                   \n",
       "2021-05-19  88281943359  40782.738281  \n",
       "2021-05-20  82051616861  37304.691406  \n",
       "2021-05-21  57377273240  37536.632812  \n",
       "2021-05-22  78469274361  34770.582031  \n",
       "2021-05-23  67359584098  38705.980469  \n",
       "2021-05-24  56211915803  38402.222656  \n",
       "2021-05-25  51346735160  39294.199219  \n",
       "2021-05-26  43210968721  38436.968750  \n",
       "2021-05-27  55200191952  35697.605469  \n",
       "2021-05-28  45231013335  34616.066406  \n",
       "2021-05-29  31646080921  35678.128906  \n",
       "2021-05-30  39009847639  37332.855469  \n",
       "2021-05-31  34639423297  36684.925781  \n",
       "2021-06-01  33070867190  37575.179688  \n",
       "2021-06-03  35725754368  38741.195312  "
      ]
     },
     "execution_count": 2,
     "metadata": {},
     "output_type": "execute_result"
    }
   ],
   "source": [
    "data= pd.DataFrame(web.get_data_yahoo('BTC-USD',start=\"20210520\",end=datetime.datetime.now() ))\n",
    "data"
   ]
  },
  {
   "cell_type": "code",
   "execution_count": 17,
   "metadata": {},
   "outputs": [],
   "source": [
    "data= pd.DataFrame(web.get_data_yahoo('ETH-USD',start=\"2018-05-01\",end=\"2021-5-12\"))\n",
    "crypto_data=pd.DataFrame()\n",
    "crypto_data[\"Open\"]=data.Open[:]\n",
    "crypto_data[\"High\"]=data.High[:]\n",
    "crypto_data[\"Low\"]=data.Low[:]\n",
    "crypto_data[\"Close\"]=data.Close[:]"
   ]
  },
  {
   "cell_type": "markdown",
   "metadata": {},
   "source": [
    "# پیاده سازی اندیکاتور sma و ema در بازه زمانی 9 روزه"
   ]
  },
  {
   "cell_type": "code",
   "execution_count": 18,
   "metadata": {},
   "outputs": [],
   "source": [
    "sma9=TA.SMA(crypto_data, 9) # period : 9\n",
    "sma9=sma9.reset_index(drop=True)\n",
    "ind=pd.DataFrame(sma9)\n",
    "ind.columns=['sma9']"
   ]
  },
  {
   "cell_type": "code",
   "execution_count": 19,
   "metadata": {},
   "outputs": [],
   "source": [
    "ema9=TA.EMA(crypto_data,9) #period = 9\n",
    "ema9=ema9.reset_index(drop=True)\n",
    "ind['ema9']=ema9"
   ]
  },
  {
   "cell_type": "markdown",
   "metadata": {},
   "source": [
    "# ترسیم نمودار قیمتی ارز"
   ]
  },
  {
   "cell_type": "code",
   "execution_count": 20,
   "metadata": {},
   "outputs": [
    {
     "data": {
      "image/png": "[encoded data removed]",
      "text/plain": [
       "<Figure size 1080x360 with 1 Axes>"
      ]
     },
     "metadata": {
      "needs_background": "light"
     },
     "output_type": "display_data"
    }
   ],
   "source": [
    "plt.figure(figsize=(15,5))\n",
    "plt.xlabel('Days')\n",
    "plt.ylabel('Price')\n",
    "plt.plot(data.index, crypto_data['Close'], label='Closing Prices')\n",
    "plt.plot(data.index, ind['sma9'], label='SMA 9')\n",
    "plt.plot(data.index, ind['ema9'], label='EMA 9')\n",
    "plt.legend()\n",
    "plt.show()"
   ]
  },
  {
   "cell_type": "markdown",
   "metadata": {},
   "source": [
    "# تقسیم داده ها به تست و آموزش 20 درصدی"
   ]
  },
  {
   "cell_type": "code",
   "execution_count": 21,
   "metadata": {},
   "outputs": [],
   "source": [
    "y=crypto_data[\"Close\"][8:]\n",
    "y=y.reset_index(drop=True)\n",
    "y=np.array(y)\n",
    "x=ind.dropna()\n",
    "x=np.array(x)\n",
    "X_train,X_test,y_train,y_test=train_test_split(x,y,test_size=0.2)"
   ]
  },
  {
   "cell_type": "markdown",
   "metadata": {},
   "source": [
    "# استفاده از روش درخت تصمیم"
   ]
  },
  {
   "cell_type": "code",
   "execution_count": 22,
   "metadata": {},
   "outputs": [
    {
     "data": {
      "text/plain": [
       "LinearRegression()"
      ]
     },
     "execution_count": 22,
     "metadata": {},
     "output_type": "execute_result"
    }
   ],
   "source": [
    "clf = LinearRegression()\n",
    "clf.fit(X_train, y_train)"
   ]
  },
  {
   "cell_type": "markdown",
   "metadata": {},
   "source": [
    "# ارزیابی درصد درستی اطلاعات با استفاده از معیار score"
   ]
  },
  {
   "cell_type": "code",
   "execution_count": 23,
   "metadata": {},
   "outputs": [
    {
     "data": {
      "text/plain": [
       "0.9972535487550968"
      ]
     },
     "execution_count": 23,
     "metadata": {},
     "output_type": "execute_result"
    }
   ],
   "source": [
    "clf.score(X_test,y_test)"
   ]
  },
  {
   "cell_type": "markdown",
   "metadata": {},
   "source": [
    "# مقایسه نمودار پیشبینی شده با نمودار واقعی ارز"
   ]
  },
  {
   "cell_type": "code",
   "execution_count": 24,
   "metadata": {},
   "outputs": [
    {
     "data": {
      "text/plain": [
       "(220,)"
      ]
     },
     "execution_count": 24,
     "metadata": {},
     "output_type": "execute_result"
    }
   ],
   "source": [
    "p=clf.predict(X_test)\n",
    "\n",
    "p.shape"
   ]
  },
  {
   "cell_type": "code",
   "execution_count": 25,
   "metadata": {},
   "outputs": [
    {
     "data": {
      "image/png": "[encoded data removed]",
      "text/plain": [
       "<Figure size 1080x360 with 2 Axes>"
      ]
     },
     "metadata": {
      "needs_background": "light"
     },
     "output_type": "display_data"
    }
   ],
   "source": [
    "plt.figure(1,figsize=(15,5))\n",
    "plt.subplot(211)\n",
    "plt.plot(p,color='blue',linestyle='--')\n",
    "plt.subplot(212)\n",
    "plt.plot(y_test,color='red',linestyle='--')\n",
    "plt.show()"
   ]
  },
  {
   "cell_type": "markdown",
   "metadata": {},
   "source": [
    "# قسمت اول تمرین"
   ]
  },
  {
   "cell_type": "markdown",
   "metadata": {},
   "source": [
    "با استفاده از استراتژی کراس مویینگ اورج ها به این صورت که وقتی ema9 به بالای sma9 کراس میکند وارد پوزیشن خرید میشویم و پوزیشن فروش را میبندیم و بالعکس "
   ]
  },
  {
   "cell_type": "code",
   "execution_count": 26,
   "metadata": {},
   "outputs": [
    {
     "name": "stdout",
     "output_type": "stream",
     "text": [
      "6271.366384391382\n"
     ]
    }
   ],
   "source": [
    "vol=100\n",
    "w=p\n",
    "z=ind.dropna().reset_index(drop=True)\n",
    "z=z[-220:].reset_index(drop=True)\n",
    "r,c=z.shape\n",
    "f=0\n",
    "sl=0\n",
    "for i in range(1,r):\n",
    "    if (f==-1):\n",
    "        if(w[i]>sl):\n",
    "            q=s/w[i]\n",
    "            vol=vol*q\n",
    "            f=0\n",
    "    elif(f==1):\n",
    "        if(w[i]<sl):\n",
    "            q=w[i]/s\n",
    "            vol=vol*q\n",
    "            f=0\n",
    "    if float(z['sma9'][i-1])<float(z['ema9'][i-1]):\n",
    "        if float(z['sma9'][i])>float(z['ema9'][i]):\n",
    "            if f==0:\n",
    "                s=w[i]\n",
    "                sl=w[i]*1.005\n",
    "                f=-1\n",
    "            elif f==1:\n",
    "                q=w[i]/s\n",
    "                vol=vol*q\n",
    "                s=w[i]\n",
    "                sl=w[i]*1.005\n",
    "                f=-1\n",
    "            else:\n",
    "                continue\n",
    "    if float(z['sma9'][i-1])>float(z['ema9'][i-1]):\n",
    "        if float(z['sma9'][i])<float(z['ema9'][i]):\n",
    "            if f==0:\n",
    "                s=w[i]\n",
    "                sl=w[i]*0.995\n",
    "                f=1\n",
    "            elif f==-1:\n",
    "                q=s/w[i]\n",
    "                vol=vol*q\n",
    "                s=w[i]\n",
    "                sl=w[i]*0.995\n",
    "                f=1\n",
    "            else:\n",
    "                continue\n",
    "print(vol)\n"
   ]
  },
  {
   "cell_type": "markdown",
   "metadata": {},
   "source": [
    "# قسمت دوم تمرین"
   ]
  },
  {
   "cell_type": "code",
   "execution_count": 31,
   "metadata": {},
   "outputs": [
    {
     "name": "stdout",
     "output_type": "stream",
     "text": [
      "397.4865097523764\n"
     ]
    }
   ],
   "source": [
    "vol=100\n",
    "w=crypto_data[\"Close\"][8:]\n",
    "w=w.reset_index(drop=True)\n",
    "z=ind.dropna().reset_index(drop=True)\n",
    "z=z.reset_index(drop=True)\n",
    "for j in range(0,4):\n",
    "    k=w[0+274*j:274+274*j]\n",
    "    l=z[0+274*j:274+274*j]\n",
    "    f=0\n",
    "    X_train,X_test,y_train,y_test=train_test_split(l,k,test_size=0.2)\n",
    "    clf = DecisionTreeRegressor()\n",
    "    clf.fit(X_train, y_train)\n",
    "    u=clf.predict(X_test)\n",
    "    r=u.shape[0]\n",
    "    a=ind.dropna().reset_index(drop=True)\n",
    "    a=a[-r:].reset_index(drop=True)\n",
    "    r,c=a.shape\n",
    "    for i in range(1,r):\n",
    "        if float(a['sma9'][i-1])<float(a['ema9'][i-1]):\n",
    "            if float(a['sma9'][i])>float(a['ema9'][i]):\n",
    "                if f==0:\n",
    "                    g=u[i]\n",
    "                    f=-1\n",
    "                elif f==1:\n",
    "                    q=u[i]/g\n",
    "                    vol=vol*q\n",
    "                    g=u[i]\n",
    "                    f=-1\n",
    "                else:\n",
    "                    continue\n",
    "        if float(a['sma9'][i-1])>float(a['ema9'][i-1]):\n",
    "            if float(a['sma9'][i])<float(a['ema9'][i]):\n",
    "                if f==0:\n",
    "                    g=u[i]\n",
    "                    f=1\n",
    "                elif f==-1:\n",
    "                    q=g/u[i]\n",
    "                    vol=vol*q\n",
    "                    g=u[i]\n",
    "                    f=1\n",
    "                else:\n",
    "                    continue\n",
    "print(vol)"
   ]
  },
  {
   "cell_type": "markdown",
   "metadata": {},
   "source": [
    "# قسمت سوم تمرین"
   ]
  },
  {
   "cell_type": "code",
   "execution_count": 32,
   "metadata": {},
   "outputs": [
    {
     "name": "stdout",
     "output_type": "stream",
     "text": [
      "66.1148545802472\n"
     ]
    }
   ],
   "source": [
    "vol=100\n",
    "w=crypto_data[\"Close\"][8:]\n",
    "w=w.reset_index(drop=True)\n",
    "z=ind.dropna().reset_index(drop=True)\n",
    "z=z.reset_index(drop=True)\n",
    "for j in range(0,20):\n",
    "    k=w[0+54*j:54+54*j]\n",
    "    l=z[0+54*j:54+54*j]\n",
    "    X_train,X_test,y_train,y_test=train_test_split(l,k,test_size=0.2)\n",
    "    clf = DecisionTreeRegressor()\n",
    "    clf.fit(X_train, y_train)\n",
    "    b=clf.predict(X_test)\n",
    "    r=b.shape[0]\n",
    "    e=ind.dropna().reset_index(drop=True)\n",
    "    e=e[-r:].reset_index(drop=True)\n",
    "    r,c=e.shape\n",
    "    f=0\n",
    "    for i in range(1,r):\n",
    "        if float(e['sma9'].iloc[i-1])>float(e['ema9'].iloc[i-1]):\n",
    "            if float(e['sma9'].iloc[i])<float(e['ema9'].iloc[i]):\n",
    "                if f==0:\n",
    "                    h=b[i]\n",
    "                    f=1\n",
    "                elif f==-1:\n",
    "                    q=h/b[i]\n",
    "                    vol=vol*q\n",
    "                    h=b[i]\n",
    "                    f=1\n",
    "                else:\n",
    "                    continue\n",
    "        if float(e['sma9'].iloc[i-1])<float(e['ema9'].iloc[i-1]):\n",
    "            if float(e['sma9'].iloc[i])>float(e['ema9'].iloc[i]):\n",
    "                if f==0:\n",
    "                    h=b[i]\n",
    "                    f=-1\n",
    "                elif f==1:\n",
    "                    q=b[i]/h\n",
    "                    vol=vol*q\n",
    "                    h=b[i]\n",
    "                    f=-1\n",
    "                else:\n",
    "                    continue\n",
    "    if f==-1:\n",
    "        q=h/b[r-1]\n",
    "        vol=vol*q\n",
    "    elif f==1:\n",
    "        q=b[r-1]/h\n",
    "        vol=vol*q\n",
    "print(vol)"
   ]
  },
  {
   "cell_type": "code",
   "execution_count": null,
   "metadata": {},
   "outputs": [],
   "source": []
  }
 ],
 "metadata": {
  "kernelspec": {
   "display_name": "Python 3",
   "language": "python",
   "name": "python3"
  },
  "language_info": {
   "codemirror_mode": {
    "name": "ipython",
    "version": 3
   },
   "file_extension": ".py",
   "mimetype": "text/x-python",
   "name": "python",
   "nbconvert_exporter": "python",
   "pygments_lexer": "ipython3",
   "version": "3.8.5"
  }
 },
 "nbformat": 4,
 "nbformat_minor": 4
}
